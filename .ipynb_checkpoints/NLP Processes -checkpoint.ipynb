{
 "cells": [
  {
   "cell_type": "code",
   "execution_count": 4,
   "metadata": {
    "scrolled": false
   },
   "outputs": [],
   "source": [
    "#Imports \n",
    "\n",
    "import os\n",
    "import nltk\n",
    "import nltk.corpus\n",
    "import json"
   ]
  },
  {
   "cell_type": "code",
   "execution_count": 5,
   "metadata": {
    "scrolled": false
   },
   "outputs": [
    {
     "name": "stdout",
     "output_type": "stream",
     "text": [
      "['unicode_samples', 'mte_teip5.zip', 'indian', 'stopwords', 'brown', 'swadesh', 'mac_morpho', 'conll2002.zip', 'indian.zip', 'abc', 'comparative_sentences', 'brown_tei.zip', 'cmudict.zip', 'conll2000.zip', 'universal_treebanks_v20.zip', 'words', 'pros_cons', 'udhr2', 'nonbreaking_prefixes.zip', 'lin_thesaurus', 'webtext', 'smultron.zip', 'names', 'sentiwordnet', 'dolch.zip', 'wordnet_ic.zip', 'brown.zip', 'alpino.zip', 'panlex_swadesh.zip', 'cmudict', 'sinica_treebank.zip', 'treebank.zip', 'ptb', 'inaugural', 'ppattach.zip', 'dependency_treebank.zip', 'opinion_lexicon.zip', 'cess_esp.zip', 'product_reviews_2', 'genesis.zip', 'reuters.zip', 'conll2007.zip', 'conll2002', 'comparative_sentences.zip', 'switchboard.zip', 'cess_cat.zip', 'udhr.zip', 'subjectivity.zip', 'pl196x.zip', 'ieer', 'problem_reports', 'timit.zip', 'floresta', 'paradigms.zip', 'gazetteers.zip', 'wordnet.zip', 'inaugural.zip', 'sinica_treebank', 'stopwords.zip', 'verbnet.zip', 'gutenberg', 'ieer.zip', 'ycoe.zip', 'shakespeare.zip', 'sentence_polarity', 'framenet_v17.zip', 'kimmo.zip', 'chat80.zip', 'kimmo', 'qc.zip', 'nonbreaking_prefixes', 'senseval', 'verbnet', 'udhr2.zip', 'senseval.zip', 'chat80', 'framenet_v15.zip', 'unicode_samples.zip', 'biocreative_ppi', 'framenet_v17', 'words.zip', 'pil', 'alpino', 'omw', 'cess_cat', 'shakespeare', 'city_database', 'product_reviews_2.zip', 'abc.zip', 'europarl_raw', 'sentiwordnet.zip', 'rte.zip', 'movie_reviews', 'toolbox.zip', 'product_reviews_1.zip', 'omw.zip', 'jeita.zip', 'wordnet_ic', 'names.zip', 'conll2000', 'dependency_treebank', 'floresta.zip', 'nombank.1.0.zip', 'wordnet', 'cess_esp', 'ptb.zip', 'mac_morpho.zip', 'knbc.zip', 'opinion_lexicon', 'toolbox', 'comtrans.zip', 'swadesh.zip', 'propbank.zip', 'mte_teip5', 'gutenberg.zip', 'product_reviews_1', 'twitter_samples.zip', 'treebank', 'state_union.zip', 'machado.zip', 'rte', 'nps_chat', 'crubadan', 'semcor.zip', 'biocreative_ppi.zip', 'ppattach', 'europarl_raw.zip', 'switchboard', 'brown_tei', 'verbnet3.zip', 'verbnet3', 'crubadan.zip', 'pil.zip', 'ycoe', 'webtext.zip', 'sentence_polarity.zip', 'timit', 'pl196x', 'nps_chat.zip', 'state_union', 'city_database.zip', 'subjectivity', 'framenet_v15', 'masc_tagged.zip', 'paradigms', 'genesis', 'gazetteers', 'twitter_samples', 'qc', 'lin_thesaurus.zip', 'udhr', 'movie_reviews.zip', 'dolch', 'problem_reports.zip', 'smultron', 'pros_cons.zip']\n"
     ]
    }
   ],
   "source": [
    "#Load datasets\n",
    "print(os.listdir(nltk.data.find(\"corpora\")))"
   ]
  },
  {
   "cell_type": "code",
   "execution_count": 6,
   "metadata": {
    "scrolled": false
   },
   "outputs": [
    {
     "data": {
      "text/plain": [
       "['The', 'Fulton', 'County', 'Grand', 'Jury', 'said', ...]"
      ]
     },
     "execution_count": 6,
     "metadata": {},
     "output_type": "execute_result"
    }
   ],
   "source": [
    "from nltk.corpus import brown\n",
    "brown.words()"
   ]
  },
  {
   "cell_type": "code",
   "execution_count": 7,
   "metadata": {
    "scrolled": false
   },
   "outputs": [
    {
     "data": {
      "text/plain": [
       "['austen-emma.txt',\n",
       " 'austen-persuasion.txt',\n",
       " 'austen-sense.txt',\n",
       " 'bible-kjv.txt',\n",
       " 'blake-poems.txt',\n",
       " 'bryant-stories.txt',\n",
       " 'burgess-busterbrown.txt',\n",
       " 'carroll-alice.txt',\n",
       " 'chesterton-ball.txt',\n",
       " 'chesterton-brown.txt',\n",
       " 'chesterton-thursday.txt',\n",
       " 'edgeworth-parents.txt',\n",
       " 'melville-moby_dick.txt',\n",
       " 'milton-paradise.txt',\n",
       " 'shakespeare-caesar.txt',\n",
       " 'shakespeare-hamlet.txt',\n",
       " 'shakespeare-macbeth.txt',\n",
       " 'whitman-leaves.txt']"
      ]
     },
     "execution_count": 7,
     "metadata": {},
     "output_type": "execute_result"
    }
   ],
   "source": [
    "nltk.corpus.gutenberg.fileids()\n"
   ]
  },
  {
   "cell_type": "code",
   "execution_count": 8,
   "metadata": {
    "scrolled": false
   },
   "outputs": [
    {
     "data": {
      "text/plain": [
       "['[', 'The', 'Tragedie', 'of', 'Hamlet', 'by', ...]"
      ]
     },
     "execution_count": 8,
     "metadata": {},
     "output_type": "execute_result"
    }
   ],
   "source": [
    "hamlet=nltk.corpus.gutenberg.words('shakespeare-hamlet.txt')\n",
    "hamlet"
   ]
  },
  {
   "cell_type": "code",
   "execution_count": 9,
   "metadata": {
    "scrolled": false
   },
   "outputs": [
    {
     "name": "stdout",
     "output_type": "stream",
     "text": [
      "[ The Tragedie of Hamlet by William Shakespeare 1599 ] Actus Primus . Scoena Prima . Enter Barnardo and Francisco two Centinels . Barnardo . Who ' s there ? Fran . Nay answer me : Stand & vnfold your selfe Bar . Long liue the King Fran . Barnardo ? Bar . He Fran . You come most carefully vpon your houre Bar . ' Tis now strook twelue , get thee to bed Francisco Fran . For this releefe much thankes : ' Tis bitter cold , And I am sicke at heart Barn . Haue you had quiet Guard ? Fran . Not a Mouse stirring Barn . Well , goodnight . If you do meet Horatio and Marcellus , the Riuals of my Watch , bid them make hast . Enter Horatio and Marcellus . Fran . I thinke I heare them . Stand : who ' s there ? Hor . Friends to this ground Mar . And Leige - men to the Dane Fran . Giue you good night Mar . O farwel honest Soldier , who hath relieu ' d you ? Fra . Barnardo ha ' s my place : giue you goodnight . Exit Fran . Mar . Holla Barnardo Bar . Say , what is Horatio there ? Hor . A peece of him Bar . Welcome Horatio , welcome good Marcellus Mar . What , ha ' s this thing appear ' d againe to night Bar . I haue seene nothing Mar . Horatio saies , ' tis but our Fantasie , And will not let beleefe take hold of him Touching this dreaded sight , twice seene of vs , Therefore I haue intreated him along With vs , to watch the minutes of this Night , That if againe this Apparition come , He may approue our eyes , and speake to it Hor . Tush , tush , ' twill not appeare Bar . Sit downe a - while , And let vs once againe assaile your eares , That are so fortified against our Story , What we two Nights haue seene Hor . Well , sit we downe , And let vs heare Barnardo speake of this Barn . Last night of all , When yond same Starre that ' s Westward from the Pole Had made his course t ' illume that part of Heauen Where now it burnes , Marcellus and my selfe , The Bell then beating one Mar . Peace , breake thee of : Enter the Ghost . Looke where it comes againe Barn . In the same figure , like the King that ' s dead Mar . Thou art a Scholler ; speake to it Horatio Barn . Lookes it not like the King ? Marke it Horatio Hora . Most like : It harrowes me with fear & wonder Barn . It would be spoke too Mar . Question it Horatio Hor . What art "
     ]
    }
   ],
   "source": [
    "for word in hamlet[:500]:\n",
    "    print(word, sep=\" \", end=\" \")"
   ]
  },
  {
   "cell_type": "code",
   "execution_count": 10,
   "metadata": {
    "scrolled": false
   },
   "outputs": [],
   "source": [
    "Sample = \"\"\"We got this GPS for my husband who is an (OTR) over the road trucker.  Very Impressed with the shipping time, it arrived a few days earlier than expected...  within a week of use however it started freezing up... could of just been a glitch in that unit.  Worked great when it worked!  Will work great for the normal person as well but does have the \\\"trucker\\\" option. (the big truck routes - tells you when a scale is coming up ect...)  Love the bigger screen, the ease of use, the ease of putting addresses into memory.  Nothing really bad to say about the unit with the exception of it freezing which is probably one in a million and that's just my luck.  I contacted the seller and within minutes of my email I received a email back with instructions for an exchange! VERY impressed all the way around!\"\"\""
   ]
  },
  {
   "cell_type": "code",
   "execution_count": 11,
   "metadata": {
    "scrolled": false
   },
   "outputs": [
    {
     "data": {
      "text/plain": [
       "str"
      ]
     },
     "execution_count": 11,
     "metadata": {},
     "output_type": "execute_result"
    }
   ],
   "source": [
    "type(Sample)"
   ]
  },
  {
   "cell_type": "code",
   "execution_count": 12,
   "metadata": {
    "scrolled": false
   },
   "outputs": [],
   "source": [
    "from nltk.tokenize import word_tokenize"
   ]
  },
  {
   "cell_type": "code",
   "execution_count": 13,
   "metadata": {
    "scrolled": false
   },
   "outputs": [
    {
     "data": {
      "text/plain": [
       "['We',\n",
       " 'got',\n",
       " 'this',\n",
       " 'GPS',\n",
       " 'for',\n",
       " 'my',\n",
       " 'husband',\n",
       " 'who',\n",
       " 'is',\n",
       " 'an',\n",
       " '(',\n",
       " 'OTR',\n",
       " ')',\n",
       " 'over',\n",
       " 'the',\n",
       " 'road',\n",
       " 'trucker',\n",
       " '.',\n",
       " 'Very',\n",
       " 'Impressed',\n",
       " 'with',\n",
       " 'the',\n",
       " 'shipping',\n",
       " 'time',\n",
       " ',',\n",
       " 'it',\n",
       " 'arrived',\n",
       " 'a',\n",
       " 'few',\n",
       " 'days',\n",
       " 'earlier',\n",
       " 'than',\n",
       " 'expected',\n",
       " '...',\n",
       " 'within',\n",
       " 'a',\n",
       " 'week',\n",
       " 'of',\n",
       " 'use',\n",
       " 'however',\n",
       " 'it',\n",
       " 'started',\n",
       " 'freezing',\n",
       " 'up',\n",
       " '...',\n",
       " 'could',\n",
       " 'of',\n",
       " 'just',\n",
       " 'been',\n",
       " 'a',\n",
       " 'glitch',\n",
       " 'in',\n",
       " 'that',\n",
       " 'unit',\n",
       " '.',\n",
       " 'Worked',\n",
       " 'great',\n",
       " 'when',\n",
       " 'it',\n",
       " 'worked',\n",
       " '!',\n",
       " 'Will',\n",
       " 'work',\n",
       " 'great',\n",
       " 'for',\n",
       " 'the',\n",
       " 'normal',\n",
       " 'person',\n",
       " 'as',\n",
       " 'well',\n",
       " 'but',\n",
       " 'does',\n",
       " 'have',\n",
       " 'the',\n",
       " '``',\n",
       " 'trucker',\n",
       " \"''\",\n",
       " 'option',\n",
       " '.',\n",
       " '(',\n",
       " 'the',\n",
       " 'big',\n",
       " 'truck',\n",
       " 'routes',\n",
       " '-',\n",
       " 'tells',\n",
       " 'you',\n",
       " 'when',\n",
       " 'a',\n",
       " 'scale',\n",
       " 'is',\n",
       " 'coming',\n",
       " 'up',\n",
       " 'ect',\n",
       " '...',\n",
       " ')',\n",
       " 'Love',\n",
       " 'the',\n",
       " 'bigger',\n",
       " 'screen',\n",
       " ',',\n",
       " 'the',\n",
       " 'ease',\n",
       " 'of',\n",
       " 'use',\n",
       " ',',\n",
       " 'the',\n",
       " 'ease',\n",
       " 'of',\n",
       " 'putting',\n",
       " 'addresses',\n",
       " 'into',\n",
       " 'memory',\n",
       " '.',\n",
       " 'Nothing',\n",
       " 'really',\n",
       " 'bad',\n",
       " 'to',\n",
       " 'say',\n",
       " 'about',\n",
       " 'the',\n",
       " 'unit',\n",
       " 'with',\n",
       " 'the',\n",
       " 'exception',\n",
       " 'of',\n",
       " 'it',\n",
       " 'freezing',\n",
       " 'which',\n",
       " 'is',\n",
       " 'probably',\n",
       " 'one',\n",
       " 'in',\n",
       " 'a',\n",
       " 'million',\n",
       " 'and',\n",
       " 'that',\n",
       " \"'s\",\n",
       " 'just',\n",
       " 'my',\n",
       " 'luck',\n",
       " '.',\n",
       " 'I',\n",
       " 'contacted',\n",
       " 'the',\n",
       " 'seller',\n",
       " 'and',\n",
       " 'within',\n",
       " 'minutes',\n",
       " 'of',\n",
       " 'my',\n",
       " 'email',\n",
       " 'I',\n",
       " 'received',\n",
       " 'a',\n",
       " 'email',\n",
       " 'back',\n",
       " 'with',\n",
       " 'instructions',\n",
       " 'for',\n",
       " 'an',\n",
       " 'exchange',\n",
       " '!',\n",
       " 'VERY',\n",
       " 'impressed',\n",
       " 'all',\n",
       " 'the',\n",
       " 'way',\n",
       " 'around',\n",
       " '!']"
      ]
     },
     "execution_count": 13,
     "metadata": {},
     "output_type": "execute_result"
    }
   ],
   "source": [
    "source_token = word_tokenize(Sample)\n",
    "source_token"
   ]
  },
  {
   "cell_type": "code",
   "execution_count": 14,
   "metadata": {
    "scrolled": false
   },
   "outputs": [
    {
     "data": {
      "text/plain": [
       "170"
      ]
     },
     "execution_count": 14,
     "metadata": {},
     "output_type": "execute_result"
    }
   ],
   "source": [
    "len(source_token)"
   ]
  },
  {
   "cell_type": "code",
   "execution_count": 15,
   "metadata": {
    "scrolled": false
   },
   "outputs": [],
   "source": [
    "from nltk.probability import FreqDist\n",
    "fdist = FreqDist()"
   ]
  },
  {
   "cell_type": "code",
   "execution_count": 16,
   "metadata": {
    "scrolled": false
   },
   "outputs": [
    {
     "data": {
      "text/plain": [
       "FreqDist({'the': 12, 'a': 6, 'of': 6, '.': 5, 'it': 4, 'for': 3, 'my': 3, 'is': 3, 'with': 3, ',': 3, ...})"
      ]
     },
     "execution_count": 16,
     "metadata": {},
     "output_type": "execute_result"
    }
   ],
   "source": [
    "for word in source_token:\n",
    "    fdist[word.lower()]+= 1\n",
    "fdist"
   ]
  },
  {
   "cell_type": "code",
   "execution_count": 17,
   "metadata": {
    "scrolled": false
   },
   "outputs": [
    {
     "data": {
      "text/plain": [
       "1"
      ]
     },
     "execution_count": 17,
     "metadata": {},
     "output_type": "execute_result"
    }
   ],
   "source": [
    "fdist['glitch']"
   ]
  },
  {
   "cell_type": "code",
   "execution_count": 18,
   "metadata": {
    "scrolled": false
   },
   "outputs": [
    {
     "data": {
      "text/plain": [
       "107"
      ]
     },
     "execution_count": 18,
     "metadata": {},
     "output_type": "execute_result"
    }
   ],
   "source": [
    "len(fdist)"
   ]
  },
  {
   "cell_type": "code",
   "execution_count": 19,
   "metadata": {
    "scrolled": false
   },
   "outputs": [
    {
     "data": {
      "text/plain": [
       "FreqDist({'the': 12, 'a': 6, 'of': 6, '.': 5, 'it': 4, 'for': 3, 'my': 3, 'is': 3, 'with': 3, ',': 3, ...})"
      ]
     },
     "execution_count": 19,
     "metadata": {},
     "output_type": "execute_result"
    }
   ],
   "source": [
    "fdist_ten = fdist.most_common(10)\n",
    "fdist"
   ]
  },
  {
   "cell_type": "code",
   "execution_count": 20,
   "metadata": {
    "scrolled": false
   },
   "outputs": [
    {
     "data": {
      "text/plain": [
       "1"
      ]
     },
     "execution_count": 20,
     "metadata": {},
     "output_type": "execute_result"
    }
   ],
   "source": [
    "from nltk.tokenize import blankline_tokenize\n",
    "sample_blank = blankline_tokenize(Sample)\n",
    "len(sample_blank)"
   ]
  },
  {
   "cell_type": "code",
   "execution_count": 21,
   "metadata": {},
   "outputs": [],
   "source": [
    "from nltk.util import bigrams, trigrams, ngrams"
   ]
  },
  {
   "cell_type": "code",
   "execution_count": 22,
   "metadata": {},
   "outputs": [
    {
     "data": {
      "text/plain": [
       "['We',\n",
       " 'got',\n",
       " 'this',\n",
       " 'GPS',\n",
       " 'for',\n",
       " 'my',\n",
       " 'husband',\n",
       " 'who',\n",
       " 'is',\n",
       " 'an',\n",
       " '(',\n",
       " 'OTR',\n",
       " ')',\n",
       " 'over',\n",
       " 'the',\n",
       " 'road',\n",
       " 'trucker',\n",
       " '.',\n",
       " 'Very',\n",
       " 'Impressed',\n",
       " 'with',\n",
       " 'the',\n",
       " 'shipping',\n",
       " 'time',\n",
       " ',',\n",
       " 'it',\n",
       " 'arrived',\n",
       " 'a',\n",
       " 'few',\n",
       " 'days',\n",
       " 'earlier',\n",
       " 'than',\n",
       " 'expected',\n",
       " '...',\n",
       " 'within',\n",
       " 'a',\n",
       " 'week',\n",
       " 'of',\n",
       " 'use',\n",
       " 'however',\n",
       " 'it',\n",
       " 'started',\n",
       " 'freezing',\n",
       " 'up',\n",
       " '...',\n",
       " 'could',\n",
       " 'of',\n",
       " 'just',\n",
       " 'been',\n",
       " 'a',\n",
       " 'glitch',\n",
       " 'in',\n",
       " 'that',\n",
       " 'unit',\n",
       " '.',\n",
       " 'Worked',\n",
       " 'great',\n",
       " 'when',\n",
       " 'it',\n",
       " 'worked',\n",
       " '!',\n",
       " 'Will',\n",
       " 'work',\n",
       " 'great',\n",
       " 'for',\n",
       " 'the',\n",
       " 'normal',\n",
       " 'person',\n",
       " 'as',\n",
       " 'well',\n",
       " 'but',\n",
       " 'does',\n",
       " 'have',\n",
       " 'the',\n",
       " '``',\n",
       " 'trucker',\n",
       " \"''\",\n",
       " 'option',\n",
       " '.',\n",
       " '(',\n",
       " 'the',\n",
       " 'big',\n",
       " 'truck',\n",
       " 'routes',\n",
       " '-',\n",
       " 'tells',\n",
       " 'you',\n",
       " 'when',\n",
       " 'a',\n",
       " 'scale',\n",
       " 'is',\n",
       " 'coming',\n",
       " 'up',\n",
       " 'ect',\n",
       " '...',\n",
       " ')',\n",
       " 'Love',\n",
       " 'the',\n",
       " 'bigger',\n",
       " 'screen',\n",
       " ',',\n",
       " 'the',\n",
       " 'ease',\n",
       " 'of',\n",
       " 'use',\n",
       " ',',\n",
       " 'the',\n",
       " 'ease',\n",
       " 'of',\n",
       " 'putting',\n",
       " 'addresses',\n",
       " 'into',\n",
       " 'memory',\n",
       " '.',\n",
       " 'Nothing',\n",
       " 'really',\n",
       " 'bad',\n",
       " 'to',\n",
       " 'say',\n",
       " 'about',\n",
       " 'the',\n",
       " 'unit',\n",
       " 'with',\n",
       " 'the',\n",
       " 'exception',\n",
       " 'of',\n",
       " 'it',\n",
       " 'freezing',\n",
       " 'which',\n",
       " 'is',\n",
       " 'probably',\n",
       " 'one',\n",
       " 'in',\n",
       " 'a',\n",
       " 'million',\n",
       " 'and',\n",
       " 'that',\n",
       " \"'s\",\n",
       " 'just',\n",
       " 'my',\n",
       " 'luck',\n",
       " '.',\n",
       " 'I',\n",
       " 'contacted',\n",
       " 'the',\n",
       " 'seller',\n",
       " 'and',\n",
       " 'within',\n",
       " 'minutes',\n",
       " 'of',\n",
       " 'my',\n",
       " 'email',\n",
       " 'I',\n",
       " 'received',\n",
       " 'a',\n",
       " 'email',\n",
       " 'back',\n",
       " 'with',\n",
       " 'instructions',\n",
       " 'for',\n",
       " 'an',\n",
       " 'exchange',\n",
       " '!',\n",
       " 'VERY',\n",
       " 'impressed',\n",
       " 'all',\n",
       " 'the',\n",
       " 'way',\n",
       " 'around',\n",
       " '!']"
      ]
     },
     "execution_count": 22,
     "metadata": {},
     "output_type": "execute_result"
    }
   ],
   "source": [
    "quotes_token = nltk.word_tokenize(Sample)\n",
    "quotes_token"
   ]
  },
  {
   "cell_type": "code",
   "execution_count": 23,
   "metadata": {},
   "outputs": [
    {
     "data": {
      "text/plain": [
       "[('We', 'got'),\n",
       " ('got', 'this'),\n",
       " ('this', 'GPS'),\n",
       " ('GPS', 'for'),\n",
       " ('for', 'my'),\n",
       " ('my', 'husband'),\n",
       " ('husband', 'who'),\n",
       " ('who', 'is'),\n",
       " ('is', 'an'),\n",
       " ('an', '('),\n",
       " ('(', 'OTR'),\n",
       " ('OTR', ')'),\n",
       " (')', 'over'),\n",
       " ('over', 'the'),\n",
       " ('the', 'road'),\n",
       " ('road', 'trucker'),\n",
       " ('trucker', '.'),\n",
       " ('.', 'Very'),\n",
       " ('Very', 'Impressed'),\n",
       " ('Impressed', 'with'),\n",
       " ('with', 'the'),\n",
       " ('the', 'shipping'),\n",
       " ('shipping', 'time'),\n",
       " ('time', ','),\n",
       " (',', 'it'),\n",
       " ('it', 'arrived'),\n",
       " ('arrived', 'a'),\n",
       " ('a', 'few'),\n",
       " ('few', 'days'),\n",
       " ('days', 'earlier'),\n",
       " ('earlier', 'than'),\n",
       " ('than', 'expected'),\n",
       " ('expected', '...'),\n",
       " ('...', 'within'),\n",
       " ('within', 'a'),\n",
       " ('a', 'week'),\n",
       " ('week', 'of'),\n",
       " ('of', 'use'),\n",
       " ('use', 'however'),\n",
       " ('however', 'it'),\n",
       " ('it', 'started'),\n",
       " ('started', 'freezing'),\n",
       " ('freezing', 'up'),\n",
       " ('up', '...'),\n",
       " ('...', 'could'),\n",
       " ('could', 'of'),\n",
       " ('of', 'just'),\n",
       " ('just', 'been'),\n",
       " ('been', 'a'),\n",
       " ('a', 'glitch'),\n",
       " ('glitch', 'in'),\n",
       " ('in', 'that'),\n",
       " ('that', 'unit'),\n",
       " ('unit', '.'),\n",
       " ('.', 'Worked'),\n",
       " ('Worked', 'great'),\n",
       " ('great', 'when'),\n",
       " ('when', 'it'),\n",
       " ('it', 'worked'),\n",
       " ('worked', '!'),\n",
       " ('!', 'Will'),\n",
       " ('Will', 'work'),\n",
       " ('work', 'great'),\n",
       " ('great', 'for'),\n",
       " ('for', 'the'),\n",
       " ('the', 'normal'),\n",
       " ('normal', 'person'),\n",
       " ('person', 'as'),\n",
       " ('as', 'well'),\n",
       " ('well', 'but'),\n",
       " ('but', 'does'),\n",
       " ('does', 'have'),\n",
       " ('have', 'the'),\n",
       " ('the', '``'),\n",
       " ('``', 'trucker'),\n",
       " ('trucker', \"''\"),\n",
       " (\"''\", 'option'),\n",
       " ('option', '.'),\n",
       " ('.', '('),\n",
       " ('(', 'the'),\n",
       " ('the', 'big'),\n",
       " ('big', 'truck'),\n",
       " ('truck', 'routes'),\n",
       " ('routes', '-'),\n",
       " ('-', 'tells'),\n",
       " ('tells', 'you'),\n",
       " ('you', 'when'),\n",
       " ('when', 'a'),\n",
       " ('a', 'scale'),\n",
       " ('scale', 'is'),\n",
       " ('is', 'coming'),\n",
       " ('coming', 'up'),\n",
       " ('up', 'ect'),\n",
       " ('ect', '...'),\n",
       " ('...', ')'),\n",
       " (')', 'Love'),\n",
       " ('Love', 'the'),\n",
       " ('the', 'bigger'),\n",
       " ('bigger', 'screen'),\n",
       " ('screen', ','),\n",
       " (',', 'the'),\n",
       " ('the', 'ease'),\n",
       " ('ease', 'of'),\n",
       " ('of', 'use'),\n",
       " ('use', ','),\n",
       " (',', 'the'),\n",
       " ('the', 'ease'),\n",
       " ('ease', 'of'),\n",
       " ('of', 'putting'),\n",
       " ('putting', 'addresses'),\n",
       " ('addresses', 'into'),\n",
       " ('into', 'memory'),\n",
       " ('memory', '.'),\n",
       " ('.', 'Nothing'),\n",
       " ('Nothing', 'really'),\n",
       " ('really', 'bad'),\n",
       " ('bad', 'to'),\n",
       " ('to', 'say'),\n",
       " ('say', 'about'),\n",
       " ('about', 'the'),\n",
       " ('the', 'unit'),\n",
       " ('unit', 'with'),\n",
       " ('with', 'the'),\n",
       " ('the', 'exception'),\n",
       " ('exception', 'of'),\n",
       " ('of', 'it'),\n",
       " ('it', 'freezing'),\n",
       " ('freezing', 'which'),\n",
       " ('which', 'is'),\n",
       " ('is', 'probably'),\n",
       " ('probably', 'one'),\n",
       " ('one', 'in'),\n",
       " ('in', 'a'),\n",
       " ('a', 'million'),\n",
       " ('million', 'and'),\n",
       " ('and', 'that'),\n",
       " ('that', \"'s\"),\n",
       " (\"'s\", 'just'),\n",
       " ('just', 'my'),\n",
       " ('my', 'luck'),\n",
       " ('luck', '.'),\n",
       " ('.', 'I'),\n",
       " ('I', 'contacted'),\n",
       " ('contacted', 'the'),\n",
       " ('the', 'seller'),\n",
       " ('seller', 'and'),\n",
       " ('and', 'within'),\n",
       " ('within', 'minutes'),\n",
       " ('minutes', 'of'),\n",
       " ('of', 'my'),\n",
       " ('my', 'email'),\n",
       " ('email', 'I'),\n",
       " ('I', 'received'),\n",
       " ('received', 'a'),\n",
       " ('a', 'email'),\n",
       " ('email', 'back'),\n",
       " ('back', 'with'),\n",
       " ('with', 'instructions'),\n",
       " ('instructions', 'for'),\n",
       " ('for', 'an'),\n",
       " ('an', 'exchange'),\n",
       " ('exchange', '!'),\n",
       " ('!', 'VERY'),\n",
       " ('VERY', 'impressed'),\n",
       " ('impressed', 'all'),\n",
       " ('all', 'the'),\n",
       " ('the', 'way'),\n",
       " ('way', 'around'),\n",
       " ('around', '!')]"
      ]
     },
     "execution_count": 23,
     "metadata": {},
     "output_type": "execute_result"
    }
   ],
   "source": [
    "quotes_bigram = list(nltk.bigrams(quotes_token))\n",
    "quotes_bigram"
   ]
  },
  {
   "cell_type": "code",
   "execution_count": 24,
   "metadata": {},
   "outputs": [],
   "source": [
    "from nltk.stem import PorterStemmer\n",
    "pst = PorterStemmer()"
   ]
  },
  {
   "cell_type": "code",
   "execution_count": 25,
   "metadata": {},
   "outputs": [],
   "source": [
    "pst.stem(\"broken\")\n",
    "words_to_stem = [\"give\",\"giving\",\"given\",\"gave\"]"
   ]
  },
  {
   "cell_type": "code",
   "execution_count": 26,
   "metadata": {},
   "outputs": [
    {
     "name": "stdout",
     "output_type": "stream",
     "text": [
      "give:giv\n",
      "giving:giv\n",
      "given:giv\n",
      "gave:gav\n"
     ]
    }
   ],
   "source": [
    "from nltk.stem import LancasterStemmer\n",
    "lst = LancasterStemmer()\n",
    "\n",
    "for words in words_to_stem:\n",
    "    print(words+ \":\" +lst.stem(words))"
   ]
  },
  {
   "cell_type": "code",
   "execution_count": 27,
   "metadata": {},
   "outputs": [
    {
     "name": "stdout",
     "output_type": "stream",
     "text": [
      "give:give\n",
      "giving:give\n",
      "given:given\n",
      "gave:gave\n"
     ]
    }
   ],
   "source": [
    "from nltk.stem import SnowballStemmer\n",
    "sst = SnowballStemmer('english')\n",
    "\n",
    "for words in words_to_stem:\n",
    "    print(words+ \":\" +sst.stem(words))"
   ]
  },
  {
   "cell_type": "code",
   "execution_count": 28,
   "metadata": {},
   "outputs": [],
   "source": [
    "from nltk.stem import wordnet\n",
    "from nltk.stem import WordNetLemmatizer\n",
    "\n",
    "word_lem = WordNetLemmatizer()"
   ]
  },
  {
   "cell_type": "code",
   "execution_count": 29,
   "metadata": {},
   "outputs": [
    {
     "data": {
      "text/plain": [
       "'corpus'"
      ]
     },
     "execution_count": 29,
     "metadata": {},
     "output_type": "execute_result"
    }
   ],
   "source": [
    "word_lem.lemmatize('corpora')"
   ]
  },
  {
   "cell_type": "code",
   "execution_count": 30,
   "metadata": {},
   "outputs": [
    {
     "name": "stdout",
     "output_type": "stream",
     "text": [
      "give:give\n",
      "giving:giving\n",
      "given:given\n",
      "gave:gave\n"
     ]
    }
   ],
   "source": [
    "for words in words_to_stem:\n",
    "    print(words+ \":\" +word_lem.lemmatize(words))"
   ]
  },
  {
   "cell_type": "code",
   "execution_count": 31,
   "metadata": {},
   "outputs": [],
   "source": [
    "import re\n",
    "punctuation = re.compile(r'[-,.?!@#$%^&*|0-9]')"
   ]
  },
  {
   "cell_type": "code",
   "execution_count": 32,
   "metadata": {},
   "outputs": [],
   "source": [
    "post_punctuation  = []\n",
    "\n",
    "for words in source_token:\n",
    "    word=punctuation.sub(\"\",words)\n",
    "    if len(word)>0:\n",
    "            post_punctuation.append(word)"
   ]
  },
  {
   "cell_type": "code",
   "execution_count": 34,
   "metadata": {},
   "outputs": [
    {
     "name": "stdout",
     "output_type": "stream",
     "text": [
      "[('We', 'PRP')]\n",
      "[('got', 'VBD')]\n",
      "[('this', 'DT')]\n",
      "[('GPS', 'NN')]\n",
      "[('for', 'IN')]\n",
      "[('my', 'PRP$')]\n",
      "[('husband', 'NN')]\n",
      "[('who', 'WP')]\n",
      "[('is', 'VBZ')]\n",
      "[('an', 'DT')]\n",
      "[('(', '(')]\n",
      "[('OTR', 'NN')]\n",
      "[(')', ')')]\n",
      "[('over', 'IN')]\n",
      "[('the', 'DT')]\n",
      "[('road', 'NN')]\n",
      "[('trucker', 'NN')]\n",
      "[('.', '.')]\n",
      "[('Very', 'RB')]\n",
      "[('Impressed', 'JJ')]\n",
      "[('with', 'IN')]\n",
      "[('the', 'DT')]\n",
      "[('shipping', 'NN')]\n",
      "[('time', 'NN')]\n",
      "[(',', ',')]\n",
      "[('it', 'PRP')]\n",
      "[('arrived', 'VBN')]\n",
      "[('a', 'DT')]\n",
      "[('few', 'JJ')]\n",
      "[('days', 'NNS')]\n",
      "[('earlier', 'RBR')]\n",
      "[('than', 'IN')]\n",
      "[('expected', 'VBN')]\n",
      "[('...', ':')]\n",
      "[('within', 'IN')]\n",
      "[('a', 'DT')]\n",
      "[('week', 'NN')]\n",
      "[('of', 'IN')]\n",
      "[('use', 'NN')]\n",
      "[('however', 'RB')]\n",
      "[('it', 'PRP')]\n",
      "[('started', 'VBN')]\n",
      "[('freezing', 'VBG')]\n",
      "[('up', 'RB')]\n",
      "[('...', ':')]\n",
      "[('could', 'MD')]\n",
      "[('of', 'IN')]\n",
      "[('just', 'RB')]\n",
      "[('been', 'VBN')]\n",
      "[('a', 'DT')]\n",
      "[('glitch', 'NN')]\n",
      "[('in', 'IN')]\n",
      "[('that', 'IN')]\n",
      "[('unit', 'NN')]\n",
      "[('.', '.')]\n",
      "[('Worked', 'VBN')]\n",
      "[('great', 'JJ')]\n",
      "[('when', 'WRB')]\n",
      "[('it', 'PRP')]\n",
      "[('worked', 'VBN')]\n",
      "[('!', '.')]\n",
      "[('Will', 'MD')]\n",
      "[('work', 'NN')]\n",
      "[('great', 'JJ')]\n",
      "[('for', 'IN')]\n",
      "[('the', 'DT')]\n",
      "[('normal', 'JJ')]\n",
      "[('person', 'NN')]\n",
      "[('as', 'IN')]\n",
      "[('well', 'RB')]\n",
      "[('but', 'CC')]\n",
      "[('does', 'VBZ')]\n",
      "[('have', 'VB')]\n",
      "[('the', 'DT')]\n",
      "[('``', '``')]\n",
      "[('trucker', 'NN')]\n",
      "[(\"''\", \"''\")]\n",
      "[('option', 'NN')]\n",
      "[('.', '.')]\n",
      "[('(', '(')]\n",
      "[('the', 'DT')]\n",
      "[('big', 'JJ')]\n",
      "[('truck', 'NN')]\n",
      "[('routes', 'NNS')]\n",
      "[('-', ':')]\n",
      "[('tells', 'NNS')]\n",
      "[('you', 'PRP')]\n",
      "[('when', 'WRB')]\n",
      "[('a', 'DT')]\n",
      "[('scale', 'NN')]\n",
      "[('is', 'VBZ')]\n",
      "[('coming', 'VBG')]\n",
      "[('up', 'RB')]\n",
      "[('ect', 'NN')]\n",
      "[('...', ':')]\n",
      "[(')', ')')]\n",
      "[('Love', 'VB')]\n",
      "[('the', 'DT')]\n",
      "[('bigger', 'JJR')]\n",
      "[('screen', 'NN')]\n",
      "[(',', ',')]\n",
      "[('the', 'DT')]\n",
      "[('ease', 'NN')]\n",
      "[('of', 'IN')]\n",
      "[('use', 'NN')]\n",
      "[(',', ',')]\n",
      "[('the', 'DT')]\n",
      "[('ease', 'NN')]\n",
      "[('of', 'IN')]\n",
      "[('putting', 'VBG')]\n",
      "[('addresses', 'NNS')]\n",
      "[('into', 'IN')]\n",
      "[('memory', 'NN')]\n",
      "[('.', '.')]\n",
      "[('Nothing', 'NN')]\n",
      "[('really', 'RB')]\n",
      "[('bad', 'JJ')]\n",
      "[('to', 'TO')]\n",
      "[('say', 'VB')]\n",
      "[('about', 'IN')]\n",
      "[('the', 'DT')]\n",
      "[('unit', 'NN')]\n",
      "[('with', 'IN')]\n",
      "[('the', 'DT')]\n",
      "[('exception', 'NN')]\n",
      "[('of', 'IN')]\n",
      "[('it', 'PRP')]\n",
      "[('freezing', 'VBG')]\n",
      "[('which', 'WDT')]\n",
      "[('is', 'VBZ')]\n",
      "[('probably', 'RB')]\n",
      "[('one', 'CD')]\n",
      "[('in', 'IN')]\n",
      "[('a', 'DT')]\n",
      "[('million', 'CD')]\n",
      "[('and', 'CC')]\n",
      "[('that', 'IN')]\n",
      "[(\"'s\", 'POS')]\n",
      "[('just', 'RB')]\n",
      "[('my', 'PRP$')]\n",
      "[('luck', 'NN')]\n",
      "[('.', '.')]\n",
      "[('I', 'PRP')]\n",
      "[('contacted', 'VBN')]\n",
      "[('the', 'DT')]\n",
      "[('seller', 'NN')]\n",
      "[('and', 'CC')]\n",
      "[('within', 'IN')]\n",
      "[('minutes', 'NNS')]\n",
      "[('of', 'IN')]\n",
      "[('my', 'PRP$')]\n",
      "[('email', 'NN')]\n",
      "[('I', 'PRP')]\n",
      "[('received', 'VBN')]\n",
      "[('a', 'DT')]\n",
      "[('email', 'NN')]\n",
      "[('back', 'RB')]\n",
      "[('with', 'IN')]\n",
      "[('instructions', 'NNS')]\n",
      "[('for', 'IN')]\n",
      "[('an', 'DT')]\n",
      "[('exchange', 'NN')]\n",
      "[('!', '.')]\n",
      "[('VERY', 'RB')]\n",
      "[('impressed', 'JJ')]\n",
      "[('all', 'DT')]\n",
      "[('the', 'DT')]\n",
      "[('way', 'NN')]\n",
      "[('around', 'IN')]\n",
      "[('!', '.')]\n"
     ]
    }
   ],
   "source": [
    "for token in source_token:\n",
    "    print(nltk.pos_tag([token]))"
   ]
  },
  {
   "cell_type": "code",
   "execution_count": 40,
   "metadata": {},
   "outputs": [],
   "source": [
    "from nltk import ne_chunk\n",
    "\n",
    "NE_TEST = \"Sundar Pichai is the CEO of Google and lives in California, probably\"\n",
    "NE_Tokens = word_tokenize(NE_TEST)\n",
    "NE_Tags = nltk.pos_tag(NE_Tokens)"
   ]
  },
  {
   "cell_type": "code",
   "execution_count": 41,
   "metadata": {},
   "outputs": [
    {
     "name": "stdout",
     "output_type": "stream",
     "text": [
      "(S\n",
      "  (PERSON Sundar/NNP)\n",
      "  (PERSON Pichai/NNP)\n",
      "  is/VBZ\n",
      "  the/DT\n",
      "  (ORGANIZATION CEO/NN of/IN Google/NNP)\n",
      "  and/CC\n",
      "  lives/NNS\n",
      "  in/IN\n",
      "  (GPE California/NNP)\n",
      "  ,/,\n",
      "  probably/RB)\n"
     ]
    }
   ],
   "source": [
    "NE_NER =ne_chunk(NE_Tags)\n",
    "print(NE_NER)"
   ]
  },
  {
   "cell_type": "code",
   "execution_count": 42,
   "metadata": {},
   "outputs": [
    {
     "data": {
      "text/plain": [
       "[('The', 'DT'),\n",
       " ('fat', 'JJ'),\n",
       " ('cat', 'NN'),\n",
       " ('ate', 'VB'),\n",
       " ('the', 'DT'),\n",
       " ('little', 'JJ'),\n",
       " ('mouse', 'NN'),\n",
       " ('who', 'WP'),\n",
       " ('was', 'VBD'),\n",
       " ('after', 'IN'),\n",
       " ('fresh', 'JJ'),\n",
       " ('cheese', 'NN'),\n",
       " ('at', 'IN'),\n",
       " ('kfc', 'NN')]"
      ]
     },
     "execution_count": 42,
     "metadata": {},
     "output_type": "execute_result"
    }
   ],
   "source": [
    "new = \"The fat cat ate the little mouse who was after fresh cheese at kfc\"\n",
    "new_tokens = nltk.pos_tag(word_tokenize(new))\n",
    "new_tokens"
   ]
  },
  {
   "cell_type": "code",
   "execution_count": 44,
   "metadata": {},
   "outputs": [],
   "source": [
    "grammar_np = r\"NP: {<DT>?<JJ>*<NN>}\""
   ]
  },
  {
   "cell_type": "code",
   "execution_count": 50,
   "metadata": {},
   "outputs": [],
   "source": [
    "chunk_parser = nltk.RegexpParser(grammar_np)"
   ]
  },
  {
   "cell_type": "code",
   "execution_count": 51,
   "metadata": {},
   "outputs": [
    {
     "data": {
      "image/png": "[encoded data removed]",
      "text/plain": [
       "Tree('S', [Tree('NP', [('The', 'DT'), ('fat', 'JJ'), ('cat', 'NN')]), ('ate', 'VB'), Tree('NP', [('the', 'DT'), ('little', 'JJ'), ('mouse', 'NN')]), ('who', 'WP'), ('was', 'VBD'), ('after', 'IN'), Tree('NP', [('fresh', 'JJ'), ('cheese', 'NN')]), ('at', 'IN'), Tree('NP', [('kfc', 'NN')])])"
      ]
     },
     "execution_count": 51,
     "metadata": {},
     "output_type": "execute_result"
    }
   ],
   "source": [
    "chunk_result = chunk_parser.parse(new_tokens)\n",
    "chunk_result"
   ]
  },
  {
   "cell_type": "code",
   "execution_count": null,
   "metadata": {},
   "outputs": [],
   "source": []
  }
 ],
 "metadata": {
  "kernelspec": {
   "display_name": "Python 3",
   "language": "python",
   "name": "python3"
  },
  "language_info": {
   "codemirror_mode": {
    "name": "ipython",
    "version": 3
   },
   "file_extension": ".py",
   "mimetype": "text/x-python",
   "name": "python",
   "nbconvert_exporter": "python",
   "pygments_lexer": "ipython3",
   "version": "3.7.4"
  }
 },
 "nbformat": 4,
 "nbformat_minor": 2
}
